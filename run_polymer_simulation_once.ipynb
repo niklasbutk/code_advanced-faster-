{
 "cells": [
  {
   "cell_type": "markdown",
   "metadata": {},
   "source": [
    "This program executes one simulation using initial parameters that were set in 'main_code.ipynb' and are saved and imported from 'initial_parameters.py'."
   ]
  },
  {
   "cell_type": "markdown",
   "metadata": {},
   "source": [
    "# Import libraries"
   ]
  },
  {
   "cell_type": "code",
   "execution_count": 1,
   "metadata": {},
   "outputs": [],
   "source": [
    "import hoomd\n",
    "import hoomd.md\n",
    "\n",
    "import numpy as np\n",
    "import math\n",
    "import os\n",
    "\n",
    "#import file with initial parameters\n",
    "import initial_parameters"
   ]
  },
  {
   "cell_type": "markdown",
   "metadata": {},
   "source": [
    "# Initialize the system"
   ]
  },
  {
   "cell_type": "code",
   "execution_count": 2,
   "metadata": {},
   "outputs": [
    {
     "name": "stdout",
     "output_type": "stream",
     "text": [
      "HOOMD-blue 2.6.0 DOUBLE HPMC_MIXED TBB SSE SSE2 SSE3 \n",
      "Compiled: 05/29/2019\n",
      "Copyright (c) 2009-2019 The Regents of the University of Michigan.\n",
      "-----\n",
      "You are using HOOMD-blue. Please cite the following:\n",
      "* J A Anderson, C D Lorenz, and A Travesset. \"General purpose molecular dynamics\n",
      "  simulations fully implemented on graphics processing units\", Journal of\n",
      "  Computational Physics 227 (2008) 5342--5359\n",
      "* J Glaser, T D Nguyen, J A Anderson, P Liu, F Spiga, J A Millan, D C Morse, and\n",
      "  S C Glotzer. \"Strong scaling of general-purpose molecular dynamics simulations\n",
      "  on GPUs\", Computer Physics Communications 192 (2015) 97--107\n",
      "-----\n",
      "HOOMD-blue is running on the CPU\n"
     ]
    },
    {
     "data": {
      "text/plain": [
       "<hoomd.context.SimulationContext at 0x7f2fda8a5d90>"
      ]
     },
     "execution_count": 2,
     "metadata": {},
     "output_type": "execute_result"
    }
   ],
   "source": [
    "hoomd.context.initialize(\"\")"
   ]
  },
  {
   "cell_type": "markdown",
   "metadata": {},
   "source": [
    "# Define the parameters (that were set in 'main_code.ipynb')"
   ]
  },
  {
   "cell_type": "code",
   "execution_count": 3,
   "metadata": {},
   "outputs": [],
   "source": [
    "#define number of polymers segments (monomers)\n",
    "Monomers = initial_parameters.Monomers\n",
    "\n",
    "#define number of bonds between segments\n",
    "Bonds = initial_parameters.Bonds\n",
    "\n",
    "#define spring constant (Rouse model) for bonds between segments in units energy/distance^2\n",
    "k = initial_parameters.k\n",
    "\n",
    "#define number of passive particles\n",
    "n_passive_particles = initial_parameters.n_passive_particles\n",
    "\n",
    "#define number of active particles\n",
    "n_active_particles = initial_parameters.n_active_particles\n",
    "\n",
    "#define drag-coefficient constant gamma\n",
    "gamma = initial_parameters.gamma\n",
    "\n",
    "#define rest distance between segments\n",
    "r0 = initial_parameters.r0\n",
    "\n",
    "#define temperature in units of kT\n",
    "kT = initial_parameters.kT\n",
    "\n",
    "#define integration step time\n",
    "dt = initial_parameters.dt\n",
    "\n",
    "#define number of integration steps\n",
    "integration_steps = initial_parameters.integration_steps\n",
    "\n",
    "#define number of points for graphical representation (number of callbacks)\n",
    "number_of_points = initial_parameters.number_of_points\n",
    "\n",
    "#define period for analysing of quantities (write them in data file)\n",
    "return_period = integration_steps/number_of_points"
   ]
  },
  {
   "cell_type": "code",
   "execution_count": 4,
   "metadata": {},
   "outputs": [],
   "source": [
    "#set epsilon and sigma for Lennard_jones potential between different particles\n",
    "lj_epsilon_AA = initial_parameters.lj_epsilon_AA\n",
    "lj_sigma_AA = initial_parameters.lj_sigma_AA\n",
    "lj_epsilon_AB = initial_parameters.lj_epsilon_AB\n",
    "lj_sigma_AB = initial_parameters.lj_sigma_AB\n",
    "lj_epsilon_BB = initial_parameters.lj_epsilon_BB\n",
    "lj_sigma_BB = initial_parameters.lj_sigma_BB\n",
    "\n",
    "#set cut-off radius for potential between two particles (in units of lj_sigma_AA)\n",
    "r_cut = initial_parameters.r_cut"
   ]
  },
  {
   "cell_type": "code",
   "execution_count": 5,
   "metadata": {},
   "outputs": [],
   "source": [
    "#set path for results\n",
    "name_for_same_simulations = initial_parameters.name_for_same_simulations"
   ]
  },
  {
   "cell_type": "markdown",
   "metadata": {},
   "source": [
    "Results are saved for every single simulation.\n",
    "therefore, the files (txt-file and gsd-file) have to have an own ID.\n",
    "For example, each of 10 equal simulations (different seed) have ID's like\n",
    "\"simlation_1, ..., simulation_10\". A new ID is made via a loop if an other ID\n",
    "is already used."
   ]
  },
  {
   "cell_type": "code",
   "execution_count": 6,
   "metadata": {},
   "outputs": [
    {
     "name": "stdout",
     "output_type": "stream",
     "text": [
      "1\n"
     ]
    }
   ],
   "source": [
    "#if a dat-file quantities_of_simulation_[ID] does not exist set simulation ID \n",
    "while True:\n",
    "    #choose random simulation_id\n",
    "    simulation_id = np.random.randint(0,99999)\n",
    "    if os.path.isfile('Codes/results/'+str(name_for_same_simulations)+'/'+\n",
    "                      'quantities_of_simulation_'+str(simulation_id)+'.dat'):\n",
    "        pass\n",
    "\n",
    "    else:\n",
    "        \n",
    "        break\n",
    "        #unused simulation_id is created\n",
    "        #(file for quantities is created in further steps automatically)"
   ]
  },
  {
   "cell_type": "code",
   "execution_count": 7,
   "metadata": {},
   "outputs": [],
   "source": [
    "#set box_factor (x-, y- and z-length of simulation-box = box_factor * Monomers)\n",
    "box_factor = initial_parameters.box_factor"
   ]
  },
  {
   "cell_type": "markdown",
   "metadata": {},
   "source": [
    "# Create box with particles"
   ]
  },
  {
   "cell_type": "code",
   "execution_count": 8,
   "metadata": {},
   "outputs": [],
   "source": [
    "#define box dimensions\n",
    "Lx = box_factor * Monomers\n",
    "Ly = box_factor * Monomers\n",
    "Lz = box_factor * Monomers\n",
    "\n",
    "#define the system as snapshot\n",
    "snapshot = hoomd.data.make_snapshot(N = Monomers + n_passive_particles,\n",
    "                                    \n",
    "                                    #box-dimension: x-direction: -Lx/2 to Lx/2 etc.\n",
    "                                    box=hoomd.data.boxdim(Lx=Lx, Ly=Ly, Lz=Lz),\n",
    "                                    \n",
    "                                    #list of types; typeid[0]='A', typeid[1]='B', etc.\n",
    "                                    particle_types=['A','B'],\n",
    "                                    bond_types=['polymer'])"
   ]
  },
  {
   "cell_type": "markdown",
   "metadata": {},
   "source": [
    "# Set ID's positions and bonds for monomers/particles"
   ]
  },
  {
   "cell_type": "code",
   "execution_count": 9,
   "metadata": {},
   "outputs": [],
   "source": [
    "#create list to set monomer's/particle's initial type-IDs, positions, bonds\n",
    "initial_IDs = []\n",
    "initial_positions = []\n",
    "initial_bonds= []\n",
    "\n",
    "#define initial quantities\n",
    "initial_position_of_cm_x = 0\n",
    "initial_position_of_cm_y = 0\n",
    "initial_position_of_cm_z = 0\n",
    "\n",
    "#set initial monomer positions and IDs; ATTENTION: particle with ID=0 is monomer,\n",
    "#last monomer has ID Monomers-1; paricles with ID >= Monomers are not part of chain\n",
    "for monomer in range(Monomers):\n",
    "    initial_IDs.append(0)\n",
    "    initial_positions.append([monomer - (Monomers/2) + 0.5, +Ly/2-1, +Lz/2-1])\n",
    "    \n",
    "    #calculate initial distance of center of mass from origin\n",
    "    initial_position_of_cm_x += (initial_positions[monomer][0] / Monomers)\n",
    "    initial_position_of_cm_y += (initial_positions[monomer][1] / Monomers)\n",
    "    initial_position_of_cm_z += (initial_positions[monomer][2] / Monomers)\n",
    "    \n",
    "initial_position_of_cm = [initial_position_of_cm_x,\n",
    "                          initial_position_of_cm_y,\n",
    "                          initial_position_of_cm_z]\n",
    "\n",
    "initial_end_to_end_vector = [initial_positions[Monomers-1][0]-initial_positions[0][0],\n",
    "                             initial_positions[Monomers-1][1]-initial_positions[0][1],\n",
    "                             initial_positions[Monomers-1][2]-initial_positions[0][2]]\n",
    "    \n",
    "for bond in range(Monomers-1):\n",
    "    initial_bonds.append([bond, bond+1])\n",
    "    \n",
    "#resize the bonds list to actual number of bonds\n",
    "snapshot.bonds.resize(Monomers-1)\n",
    "\n",
    "#set initial passive particle positions and IDs, break loops if number of passiver particles is reached\n",
    "passive_particles_counter = 0\n",
    "for Lz_counter in range(-int(Lz/2-1), int(Lz/2-1)):\n",
    "    \n",
    "    if passive_particles_counter == n_passive_particles:\n",
    "                break\n",
    "            \n",
    "    for Ly_counter in range(-int(Ly/2-1), int(Ly/2-1)):\n",
    "        \n",
    "        if passive_particles_counter == n_passive_particles:\n",
    "                break  \n",
    "                \n",
    "        for Lx_counter in range(-int(Lx/2-1), int(Lx/2-1)):\n",
    "            passive_particles_counter += 1\n",
    "            initial_IDs.append(1)\n",
    "            initial_positions.append([Lx_counter, Ly_counter, Lz_counter])\n",
    "    \n",
    "            if passive_particles_counter == n_passive_particles:\n",
    "                break\n",
    "    \n",
    "#copy IDs, positions and bonds into valid arrays\n",
    "snapshot.particles.typeid[:] = initial_IDs\n",
    "snapshot.particles.position[:] = initial_positions\n",
    "snapshot.bonds.group[:] = initial_bonds"
   ]
  },
  {
   "cell_type": "markdown",
   "metadata": {},
   "source": [
    "# Initialization of integration parameters"
   ]
  },
  {
   "cell_type": "code",
   "execution_count": 10,
   "metadata": {},
   "outputs": [
    {
     "name": "stdout",
     "output_type": "stream",
     "text": [
      "notice(2): Group \"all\" created containing 50 particles\n"
     ]
    },
    {
     "data": {
      "text/plain": [
       "<hoomd.dump.gsd at 0x7f2fda8bf750>"
      ]
     },
     "execution_count": 10,
     "metadata": {},
     "output_type": "execute_result"
    }
   ],
   "source": [
    "#initialize HOOMD using snapshot\n",
    "system = hoomd.init.read_snapshot(snapshot)\n",
    "\n",
    "#set the bond type and strength between monomers\n",
    "harmonic = hoomd.md.bond.harmonic()\n",
    "harmonic.bond_coeff.set('polymer', k=k, r0=r0)\n",
    "\n",
    "#consider every particle\n",
    "all = hoomd.group.all()\n",
    "\n",
    "#safe the trajectory in 'results/datetime' to\n",
    "#display in a visualisation program\n",
    "\n",
    "#make only one gsd-file to safe memory for simulation with id=0\n",
    "if simulation_id == 0:\n",
    "    hoomd.dump.gsd('Codes/results/'+str(name_for_same_simulations)+'/'+\n",
    "                   \"trajectory_of_simulation_0.gsd\",\n",
    "\n",
    "                   #return_period = number of points in plots\n",
    "                   period=return_period,\n",
    "                   group=all, overwrite=True)"
   ]
  },
  {
   "cell_type": "markdown",
   "metadata": {},
   "source": [
    "# Set Lennard-Jones potential"
   ]
  },
  {
   "cell_type": "code",
   "execution_count": null,
   "metadata": {},
   "outputs": [],
   "source": [
    "#cell method is used if r_cut is for all pairs of particles the same\n",
    "nl = hoomd.md.nlist.cell()\n",
    "\n",
    "#LJ-potential depens on r_cut\n",
    "lj = hoomd.md.pair.lj(r_cut=r_cut, nlist=nl)\n",
    "\n",
    "lj.pair_coeff.set('A', 'A', epsilon=lj_epsilon_AA, sigma=lj_sigma_AA)\n",
    "lj.pair_coeff.set('A', 'B', epsilon=lj_epsilon_AB, sigma=lj_sigma_AB)\n",
    "lj.pair_coeff.set('B', 'B', epsilon=lj_epsilon_BB, sigma=lj_sigma_BB)"
   ]
  },
  {
   "cell_type": "markdown",
   "metadata": {},
   "source": [
    "# Set integrator and  parameters"
   ]
  },
  {
   "cell_type": "code",
   "execution_count": 11,
   "metadata": {},
   "outputs": [
    {
     "name": "stdout",
     "output_type": "stream",
     "text": [
      "notice(2): integrate.langevin/bd is using specified gamma values\n"
     ]
    }
   ],
   "source": [
    "#integrator\n",
    "hoomd.md.integrate.mode_standard(dt=dt)\n",
    "integrator = hoomd.md.integrate.brownian(group=all, kT=kT, dscale=False,\n",
    "                                         seed=np.random.randint(0,9999))\n",
    "\n",
    "\n",
    "#set gamma (friction constant); ATTENTION: set after integrator is set!\n",
    "integrator.set_gamma('A', gamma=gamma)\n",
    "integrator.set_gamma('B', gamma=gamma)\n"
   ]
  },
  {
   "cell_type": "markdown",
   "metadata": {},
   "source": [
    "# Create classes to compute quantities"
   ]
  },
  {
   "cell_type": "markdown",
   "metadata": {},
   "source": [
    "Note: For every run of THIS entire code ('run_polymer_simulation_once.ipynb') the current values for quantities are added to values calculated earlier. The division by the number of execution of THIS file is done by the 'main_code.ipynb'."
   ]
  },
  {
   "cell_type": "code",
   "execution_count": 12,
   "metadata": {},
   "outputs": [],
   "source": [
    "#create class for end-to-end distance\n",
    "class Sq_end_to_end_distance:\n",
    "    \n",
    "    def __init__(self, system):\n",
    "        \n",
    "        self.system = system\n",
    "        \n",
    "    def __call__(self, timestep):\n",
    "        \n",
    "        snapshot = self.system.take_snapshot()\n",
    "        \n",
    "        #ATTENTION: paricles.position[...] can also be position of passive particle!!!\n",
    "        #paricles.position[0] (position 0) --> first monomer\n",
    "        \n",
    "        #find actual simulation box (if particle outside the box, it is in the next box), m=monomer\n",
    "        m_first_image = snapshot.particles.image[0]\n",
    "        m_last_image = snapshot.particles.image[Monomers-1]\n",
    "        \n",
    "        #calculate positions of first and last monomer Lx,Ly,Lz = length of simulation box\n",
    "        m_first_x = snapshot.particles.position[0][0] + Lx*m_first_image[0]\n",
    "        m_first_y = snapshot.particles.position[0][1] + Ly*m_first_image[1]\n",
    "        m_first_z = snapshot.particles.position[0][2] + Lz*m_first_image[2]\n",
    "        m_first = [m_first_x, m_first_y, m_first_z]\n",
    "        \n",
    "        m_last_x = snapshot.particles.position[Monomers-1][0] + Lx*m_last_image[0]\n",
    "        m_last_y = snapshot.particles.position[Monomers-1][1] + Ly*m_last_image[1]\n",
    "        m_last_z = snapshot.particles.position[Monomers-1][2] + Lz*m_last_image[2]  \n",
    "        m_last = [m_last_x, m_last_y, m_last_z]\n",
    "        \n",
    "        #calculate squared end-to-end distance\n",
    "        current_sq_end_to_end_distance = ((m_last[0]-m_first[0])**2 +\n",
    "                                          (m_last[1]-m_first[1])**2 +\n",
    "                                          (m_last[2]-m_first[2])**2)\n",
    "        \n",
    "        #return current end-to-end distance\n",
    "        return (current_sq_end_to_end_distance)"
   ]
  },
  {
   "cell_type": "code",
   "execution_count": 13,
   "metadata": {},
   "outputs": [],
   "source": [
    "#create class for distance of centre of mass from origin\n",
    "class Sq_distance_of_cm:\n",
    "    \n",
    "    def __init__(self, system):\n",
    "        \n",
    "        self.system = system\n",
    "        \n",
    "    def __call__(self, timestep):\n",
    "        \n",
    "        snapshot = self.system.take_snapshot()\n",
    "        \n",
    "        #define lists of x,y and z positions of monomers\n",
    "        list_of_x_positions = []\n",
    "        list_of_y_positions = []\n",
    "        list_of_z_positions = []\n",
    "        \n",
    "        #compute current position of centre of mass (the average is done by other Python-program)\n",
    "        for monomers in range(Monomers):\n",
    "            \n",
    "            #Particles can move outside the box (and appear in the same box on the\n",
    "            #other side). Therefore, the actual position has\n",
    "            #to be recalculated by unsing the box-length Lx, Ly, Lz\n",
    "            list_of_x_positions.append(snapshot.particles.position[monomers][0]\n",
    "                                      + Lx*snapshot.particles.image[monomers][0])\n",
    "            list_of_y_positions.append(snapshot.particles.position[monomers][1]\n",
    "                                      + Ly*snapshot.particles.image[monomers][1])\n",
    "            list_of_z_positions.append(snapshot.particles.position[monomers][2]\n",
    "                                      + Lz*snapshot.particles.image[monomers][2])\n",
    "            \n",
    "        current_position_of_cm = [np.mean(list_of_x_positions),\n",
    "                                  np.mean(list_of_y_positions),\n",
    "                                  np.mean(list_of_z_positions)]\n",
    "        \n",
    "        #calculation of squared distance of cm from origin\n",
    "        current_sq_distance_of_cm = ((current_position_of_cm[0]-initial_position_of_cm[0])**2 +\n",
    "                                     (current_position_of_cm[1]-initial_position_of_cm[1])**2 +\n",
    "                                     (current_position_of_cm[2]-initial_position_of_cm[2])**2)\n",
    "        \n",
    "        #return current end-to-end distance        \n",
    "        return (current_sq_distance_of_cm)"
   ]
  },
  {
   "cell_type": "code",
   "execution_count": 14,
   "metadata": {},
   "outputs": [],
   "source": [
    "#create class for auto correlation of end-to-end distance vector\n",
    "class Auto_corr_ee_vector:\n",
    "    \n",
    "    def __init__(self, system):\n",
    "        \n",
    "        self.system = system\n",
    "        \n",
    "    def __call__(self, timestep):\n",
    "        \n",
    "        snapshot = self.system.take_snapshot()\n",
    "        \n",
    "        #ATTENTION: paricles.position[...] can also be position of passive particle!!!\n",
    "        #paricles.position[0] (position 0) --> first monomer \n",
    "        \n",
    "        current_end_to_end_vector = [(snapshot.particles.position[Monomers-1][0]\n",
    "                                          + Lx*snapshot.particles.image[Monomers-1][0]) -\n",
    "                                         \n",
    "                                          (snapshot.particles.position[0][0]\n",
    "                                          + Lx*snapshot.particles.image[0][0]),\n",
    "                                        \n",
    "                                    \n",
    "                                        (snapshot.particles.position[Monomers-1][1]\n",
    "                                          + Ly*snapshot.particles.image[Monomers-1][1]) -\n",
    "                                         \n",
    "                                          (snapshot.particles.position[0][1]\n",
    "                                          + Ly*snapshot.particles.image[0][1]),\n",
    "                                  \n",
    "                                        \n",
    "                                        (snapshot.particles.position[Monomers-1][2]\n",
    "                                          + Lz*snapshot.particles.image[Monomers-1][2]) -\n",
    "                                         \n",
    "                                          (snapshot.particles.position[0][2]\n",
    "                                          + Lz*snapshot.particles.image[0][2])]\n",
    "        \n",
    "        auto_corr_ee_vector = (current_end_to_end_vector[0] * initial_end_to_end_vector[0] +\n",
    "                               current_end_to_end_vector[1] * initial_end_to_end_vector[1] +\n",
    "                               current_end_to_end_vector[2] * initial_end_to_end_vector[2])\n",
    "        \n",
    "        #return current auto-corr end-to-end vector        \n",
    "        return (auto_corr_ee_vector)"
   ]
  },
  {
   "cell_type": "markdown",
   "metadata": {},
   "source": [
    "# Create instances for classes and log the quantities"
   ]
  },
  {
   "cell_type": "code",
   "execution_count": 15,
   "metadata": {},
   "outputs": [],
   "source": [
    "instance_sq_end_to_end_distance = Sq_end_to_end_distance(system)\n",
    "instance_sq_distance_of_cm      = Sq_distance_of_cm(system)\n",
    "instance_auto_corr_ee_vector    = Auto_corr_ee_vector(system)\n",
    "\n",
    "#use analyze.log to write quantities of simulation into a text file\n",
    "logger = hoomd.analyze.log(filename=('Codes/results/'+str(name_for_same_simulations)+'/'+\n",
    "                                     'quantities_of_simulation_'+\n",
    "                                     str(simulation_id)+'.dat'),\n",
    "                           quantities=['sq_end_to_end_distance',\n",
    "                                       'sq_distance_of_cm',\n",
    "                                       'auto_corr_ee_vector'],\n",
    "                           \n",
    "                           #return and write to file\n",
    "                           period = return_period,\n",
    "                           header_prefix='#',\n",
    "                           overwrite=True)\n",
    "\n",
    "#create a new quantity that is logged due to expression above to a text file\n",
    "logger.register_callback(('sq_end_to_end_distance'), instance_sq_end_to_end_distance)\n",
    "logger.register_callback(('sq_distance_of_cm'), instance_sq_distance_of_cm)\n",
    "logger.register_callback(('auto_corr_ee_vector'), instance_auto_corr_ee_vector)"
   ]
  },
  {
   "cell_type": "markdown",
   "metadata": {},
   "source": [
    "# Run the simulation"
   ]
  },
  {
   "cell_type": "code",
   "execution_count": null,
   "metadata": {},
   "outputs": [],
   "source": [
    "hoomd.run(integration_steps)"
   ]
  }
 ],
 "metadata": {
  "kernelspec": {
   "display_name": "Python 3",
   "language": "python",
   "name": "python3"
  },
  "language_info": {
   "codemirror_mode": {
    "name": "ipython",
    "version": 3
   },
   "file_extension": ".py",
   "mimetype": "text/x-python",
   "name": "python",
   "nbconvert_exporter": "python",
   "pygments_lexer": "ipython3",
   "version": "3.7.4"
  }
 },
 "nbformat": 4,
 "nbformat_minor": 2
}
