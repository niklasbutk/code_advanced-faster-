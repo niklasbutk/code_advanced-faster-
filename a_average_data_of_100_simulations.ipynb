{
 "cells": [
  {
   "cell_type": "markdown",
   "metadata": {},
   "source": [
    "This code reads data from 100 simulations and averages it."
   ]
  },
  {
   "cell_type": "markdown",
   "metadata": {},
   "source": [
    "# Import parameters"
   ]
  },
  {
   "cell_type": "code",
   "execution_count": 1,
   "metadata": {},
   "outputs": [],
   "source": [
    "import matplotlib.pyplot as plt\n",
    "import numpy as np\n",
    "import math\n",
    "from scipy.optimize import curve_fit\n",
    "import csv\n",
    "import os\n",
    "\n",
    "#load parameters\n",
    "import initial_parameters\n",
    "\n",
    "Monomers = initial_parameters.Monomers\n",
    "gamma = initial_parameters.gamma\n",
    "Bonds = initial_parameters.Bonds\n",
    "Kuhn_length_b = initial_parameters.Kuhn_length_b\n",
    "tau_rouse_theory = initial_parameters.tau_rouse_theory\n",
    "kT = initial_parameters.kT"
   ]
  },
  {
   "cell_type": "code",
   "execution_count": 2,
   "metadata": {},
   "outputs": [],
   "source": [
    "#make path to 'results/current_datetime' to save all analysis\n",
    "path_results = ''"
   ]
  },
  {
   "cell_type": "code",
   "execution_count": 3,
   "metadata": {},
   "outputs": [],
   "source": [
    "#create lists for quantities for graphical representation (plots)\n",
    "list_of_times = []\n",
    "list_of_sq_end_to_end_distances = []\n",
    "list_of_sq_distance_of_cm = []\n",
    "list_of_auto_corr_ee_vector = []\n",
    "\n",
    "#find first simulation id\n",
    "loaded_simulations = 0\n",
    "simulation_id = 0\n",
    "while True:\n",
    "    if os.path.isfile(path_results+'quantities_of_simulation_'+str(simulation_id)+'.dat'):\n",
    "        break\n",
    "    else: simulation_id += 1\n",
    "\n",
    "#fill arrays first time with data\n",
    "calculated_quantities = open(path_results+'quantities_of_simulation_'+str(simulation_id)+'.dat','r')\n",
    "lines = csv.reader(calculated_quantities, delimiter='\t')\n",
    "\n",
    "#skip the header\n",
    "next(lines)\n",
    "\n",
    "for line in lines:\n",
    "\n",
    "    #time has to be multiplied by dt, otherwise it is number of timesteps\n",
    "    list_of_times.append(float(line[0])*initial_parameters.dt)\n",
    "    list_of_sq_end_to_end_distances.append(float(line[1]))\n",
    "    list_of_sq_distance_of_cm.append(float(line[2]))\n",
    "    list_of_auto_corr_ee_vector.append(float(line[3]))\n",
    "\n",
    "\n",
    "#close the file\n",
    "calculated_quantities.close()\n",
    "\n",
    "#define variable for loaded simulations\n",
    "loaded_simulations = 1\n",
    "\n",
    "#fill arrays with data from other simulations\n",
    "while loaded_simulations <= 99:\n",
    "\n",
    "        if os.path.isfile(path_results+\"quantities_of_simulation_\"+str(simulation_id)+\".dat\"):\n",
    "\n",
    "            calculated_quantities = open(path_results+'quantities_of_simulation_'+str(simulation_id)+'.dat','r')\n",
    "            lines = csv.reader(calculated_quantities, delimiter='\t')\n",
    "\n",
    "            #skip the header\n",
    "            next(lines)\n",
    "\n",
    "            #set array index\n",
    "            array_index = 0\n",
    "\n",
    "            for line in lines:\n",
    "\n",
    "                    #time is already written into array (stays the same)\n",
    "                    list_of_sq_end_to_end_distances[array_index] += float(line[1])\n",
    "                    list_of_sq_distance_of_cm[array_index] += float(line[2])\n",
    "                    list_of_auto_corr_ee_vector[array_index] += float(line[3])\n",
    "\n",
    "                    #increase array index\n",
    "                    array_index += 1\n",
    "\n",
    "\n",
    "            #close the file\n",
    "            calculated_quantities.close()\n",
    "            \n",
    "            #increase loaded_simulations\n",
    "            loaded_simulations += 1\n",
    "\n",
    "        #increase simulation_id\n",
    "        simulation_id += 1\n",
    "    \n",
    "#calculate number of simulations\n",
    "number_of_simulations = loaded_simulations\n",
    "\n",
    "#divide (average) quantities arrays by number_of_simulations\n",
    "list_of_sq_end_to_end_distances = np.array(list_of_sq_end_to_end_distances)/number_of_simulations\n",
    "list_of_sq_distance_of_cm = np.array(list_of_sq_distance_of_cm)/number_of_simulations\n",
    "list_of_auto_corr_ee_vector = np.array(list_of_auto_corr_ee_vector)/number_of_simulations\n",
    "\n"
   ]
  },
  {
   "cell_type": "code",
   "execution_count": 4,
   "metadata": {},
   "outputs": [],
   "source": [
    "#write average quantities into new file\n",
    "average_of_100_simulations = open(path_results+'averaged_quantities_of_100_simulations.dat', 'w')\n",
    "\n",
    "#there are 1001 data-lines (data for 1001 time points)\n",
    "for data_line in range(0, 1001):\n",
    "    average_of_100_simulations.write(str(list_of_times[data_line])+\n",
    "                                    '\t'+\n",
    "                                    str(list_of_sq_end_to_end_distances[data_line])+\n",
    "                                    '\t'+\n",
    "                                    str(list_of_sq_distance_of_cm[data_line])+\n",
    "                                    '\t'+\n",
    "                                    str(list_of_auto_corr_ee_vector[data_line])+\n",
    "                                    '\\n')\n",
    "\n",
    "average_of_100_simulations.close()"
   ]
  },
  {
   "cell_type": "code",
   "execution_count": null,
   "metadata": {},
   "outputs": [],
   "source": []
  }
 ],
 "metadata": {
  "kernelspec": {
   "display_name": "Python 3",
   "language": "python",
   "name": "python3"
  },
  "language_info": {
   "codemirror_mode": {
    "name": "ipython",
    "version": 3
   },
   "file_extension": ".py",
   "mimetype": "text/x-python",
   "name": "python",
   "nbconvert_exporter": "python",
   "pygments_lexer": "ipython3",
   "version": "3.7.4"
  }
 },
 "nbformat": 4,
 "nbformat_minor": 2
}
