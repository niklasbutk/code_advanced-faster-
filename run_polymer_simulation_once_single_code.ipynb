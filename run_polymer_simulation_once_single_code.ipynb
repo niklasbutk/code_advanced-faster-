{
 "cells": [
  {
   "cell_type": "markdown",
   "metadata": {},
   "source": [
    "This program executes one simulation using initial parameters that were set in 'main_code.ipynb' and are saved and imported from 'initial_parameters.py'."
   ]
  },
  {
   "cell_type": "markdown",
   "metadata": {},
   "source": [
    "# Import libraries"
   ]
  },
  {
   "cell_type": "code",
   "execution_count": 1,
   "metadata": {},
   "outputs": [],
   "source": [
    "#import hoomd that ist saved on computer\n",
    "import sys\n",
    "sys.path.append(\"/net/theorie/home/niklas.butkevich/miniconda2/envs/py3/lib/python3.7/site-packages\")\n",
    "import hoomd\n",
    "import hoomd.md\n",
    "\n",
    "import numpy as np\n",
    "import math\n",
    "import os"
   ]
  },
  {
   "cell_type": "markdown",
   "metadata": {},
   "source": [
    "# Initialize the system"
   ]
  },
  {
   "cell_type": "code",
   "execution_count": 2,
   "metadata": {},
   "outputs": [
    {
     "name": "stdout",
     "output_type": "stream",
     "text": [
      "HOOMD-blue 2.6.0 DOUBLE HPMC_MIXED TBB SSE SSE2 SSE3 \n",
      "Compiled: 05/29/2019\n",
      "Copyright (c) 2009-2019 The Regents of the University of Michigan.\n",
      "-----\n",
      "You are using HOOMD-blue. Please cite the following:\n",
      "* J A Anderson, C D Lorenz, and A Travesset. \"General purpose molecular dynamics\n",
      "  simulations fully implemented on graphics processing units\", Journal of\n",
      "  Computational Physics 227 (2008) 5342--5359\n",
      "* J Glaser, T D Nguyen, J A Anderson, P Liu, F Spiga, J A Millan, D C Morse, and\n",
      "  S C Glotzer. \"Strong scaling of general-purpose molecular dynamics simulations\n",
      "  on GPUs\", Computer Physics Communications 192 (2015) 97--107\n",
      "-----\n",
      "HOOMD-blue is running on the CPU\n"
     ]
    },
    {
     "data": {
      "text/plain": [
       "<hoomd.context.SimulationContext at 0x7fe57854e590>"
      ]
     },
     "execution_count": 2,
     "metadata": {},
     "output_type": "execute_result"
    }
   ],
   "source": [
    "hoomd.context.initialize(\"\")"
   ]
  },
  {
   "cell_type": "markdown",
   "metadata": {},
   "source": [
    "# Define the parameters (that were set in 'main_code.ipynb')"
   ]
  },
  {
   "cell_type": "code",
   "execution_count": 3,
   "metadata": {},
   "outputs": [],
   "source": [
    "#define number of polymers segments (monomers)\n",
    "Monomers = 100\n",
    "#define number of bonds between segments\n",
    "Bonds = Monomers-1\n",
    "\n",
    "#define spring constant (Rouse model) for bonds between segments in units energy/distance^2\n",
    "k = 1\n",
    "\n",
    "#define number of passive particles\n",
    "n_passive_particles = 0\n",
    "\n",
    "#define number of active particles\n",
    "n_active_particles = 0\n",
    "\n",
    "#define drag-coefficient constant gamma\n",
    "gamma = 1\n",
    "\n",
    "#define rest distance between segments\n",
    "r0 = 0\n",
    "\n",
    "#define temperature in units of kT\n",
    "kT = 1\n",
    "\n",
    "#define integration step time\n",
    "dt = 1e-4\n",
    "\n",
    "#calculate Kuhn length b\n",
    "Kuhn_length_b = math.sqrt(3*kT/k)\n",
    "\n",
    "#calculate Rouse time (Rouse mode = 1)\n",
    "tau_rouse_theory = gamma*Monomers**2*Kuhn_length_b**2 / (3*np.pi**2*kT)\n",
    "\n",
    "#define number of integration steps (e3 --> *1000, is written into files in correct digit-format)\n",
    "integration_steps = int(tau_rouse_theory/dt*10)\n",
    "\n",
    "#define number of points for graphical representation (number of callbacks)\n",
    "number_of_points = 1000\n",
    "\n",
    "#define period for analysing of quantities (write them in data file)\n",
    "return_period = integration_steps/number_of_points\n",
    "\n",
    "#define number of simulations (executions of this code)\n",
    "number_of_simulations = 1"
   ]
  },
  {
   "cell_type": "code",
   "execution_count": 4,
   "metadata": {},
   "outputs": [
    {
     "name": "stdout",
     "output_type": "stream",
     "text": [
      "1.7320508075688772\n",
      "1013.2118364233777\n",
      "101321183\n"
     ]
    }
   ],
   "source": [
    "print (Kuhn_length_b)\n",
    "print (tau_rouse_theory)\n",
    "print (integration_steps)"
   ]
  },
  {
   "cell_type": "code",
   "execution_count": 5,
   "metadata": {},
   "outputs": [],
   "source": [
    "#set epsilon and sigma for Lennard_jones potential between different particles\n",
    "lj_epsilon_AA = 1\n",
    "lj_sigma_AA = 1\n",
    "\n",
    "#set cut-off radius for potential between two particles\n",
    "r_cut = (2**(1/6))*lj_sigma_AA"
   ]
  },
  {
   "cell_type": "markdown",
   "metadata": {},
   "source": [
    "# Create box with particles"
   ]
  },
  {
   "cell_type": "markdown",
   "metadata": {},
   "source": [
    "Attention: Box has to be large, otherwise - if polmer is outside the box it appears on the opposite side - the end-to-end-values and other position parameters are calculated in a wrong way."
   ]
  },
  {
   "cell_type": "code",
   "execution_count": 6,
   "metadata": {},
   "outputs": [],
   "source": [
    "#define box dimensions\n",
    "Lx = 3 * Monomers\n",
    "Ly = 3 * Monomers\n",
    "Lz = 3 * Monomers\n",
    "\n",
    "#define the system as snapshot\n",
    "snapshot = hoomd.data.make_snapshot(N = Monomers + n_passive_particles,\n",
    "                                    \n",
    "                                    #box-dimension: x-direction: -Lx/2 to Lx/2 etc.\n",
    "                                    box=hoomd.data.boxdim(Lx=Lx, Ly=Ly, Lz=Lz),\n",
    "                                    \n",
    "                                    #list of types; typeid[0]='A', typeid[1]='B', etc.\n",
    "                                    particle_types=['A'],\n",
    "                                    bond_types=['polymer'])"
   ]
  },
  {
   "cell_type": "markdown",
   "metadata": {},
   "source": [
    "# Set ID's positions and bonds for monomers/particles"
   ]
  },
  {
   "cell_type": "code",
   "execution_count": 7,
   "metadata": {},
   "outputs": [],
   "source": [
    "#create list to set monomer's/particle's initial type-IDs, positions, bonds\n",
    "initial_IDs = []\n",
    "initial_positions = []\n",
    "initial_bonds= []\n",
    "\n",
    "#define initial quantities\n",
    "initial_position_of_cm_x = 0\n",
    "initial_position_of_cm_y = 0\n",
    "initial_position_of_cm_z = 0\n",
    "\n",
    "#set initial monomer positions and IDs\n",
    "for monomer in range(Monomers):\n",
    "    initial_IDs.append(0)\n",
    "    initial_positions.append([monomer*1.5 - (Monomers/2) + 0.5, 0, 0])\n",
    "    \n",
    "    #calculate initial distance of center of mass from origin\n",
    "    initial_position_of_cm_x += (initial_positions[monomer][0] / Monomers)\n",
    "    initial_position_of_cm_y += (initial_positions[monomer][1] / Monomers)\n",
    "    initial_position_of_cm_z += (initial_positions[monomer][2] / Monomers)\n",
    "    \n",
    "initial_position_of_cm = [initial_position_of_cm_x,\n",
    "                          initial_position_of_cm_y,\n",
    "                          initial_position_of_cm_z]\n",
    "\n",
    "initial_end_to_end_vector = [initial_positions[Monomers-1][0]-initial_positions[0][0],\n",
    "                             initial_positions[Monomers-1][1]-initial_positions[0][1],\n",
    "                             initial_positions[Monomers-1][2]-initial_positions[0][2]]\n",
    "    \n",
    "for bond in range(Monomers-1):\n",
    "    initial_bonds.append([bond, bond+1])\n",
    "    \n",
    "#resize the bonds list to actual number of bonds\n",
    "snapshot.bonds.resize(Monomers-1)\n",
    "\n",
    "#set initial passive particle positions and IDs\n",
    "for passive_particle in range(n_passive_particles):\n",
    "    initial_IDs.append(1)\n",
    "    initial_positions.append([passive_particle - (n_passive_particles/2) + 0.5, 1, 0])\n",
    "    \n",
    "#copy IDs, positions and bonds into valid arrays\n",
    "snapshot.particles.typeid[:] = initial_IDs\n",
    "snapshot.particles.position[:] = initial_positions\n",
    "snapshot.bonds.group[:] = initial_bonds"
   ]
  },
  {
   "cell_type": "markdown",
   "metadata": {},
   "source": [
    "# Initialization of integration parameters"
   ]
  },
  {
   "cell_type": "code",
   "execution_count": 8,
   "metadata": {},
   "outputs": [
    {
     "name": "stdout",
     "output_type": "stream",
     "text": [
      "notice(2): Group \"all\" created containing 100 particles\n"
     ]
    },
    {
     "data": {
      "text/plain": [
       "<hoomd.dump.gsd at 0x7fe56809a1d0>"
      ]
     },
     "execution_count": 8,
     "metadata": {},
     "output_type": "execute_result"
    }
   ],
   "source": [
    "#initialize HOOMD using snapshot\n",
    "system = hoomd.init.read_snapshot(snapshot)\n",
    "\n",
    "#set the bond type and strength between monomers\n",
    "harmonic = hoomd.md.bond.harmonic()\n",
    "harmonic.bond_coeff.set('polymer', k=k, r0=r0)\n",
    "\n",
    "#consider every particle\n",
    "all = hoomd.group.all()\n",
    "\n",
    "#safe the trajectory in 'results/datetime' to\n",
    "#display in a visualisation program\n",
    "\n",
    "hoomd.dump.gsd(\"trajectory.gsd\",\n",
    "               \n",
    "               #return_period = number of points in plots\n",
    "               period=return_period,\n",
    "               group=all, overwrite=True)"
   ]
  },
  {
   "cell_type": "markdown",
   "metadata": {},
   "source": [
    "# Set Lennard-Jones potential"
   ]
  },
  {
   "cell_type": "code",
   "execution_count": 9,
   "metadata": {},
   "outputs": [],
   "source": [
    "#cell method is used if r_cut is for all pairs of particles the same\n",
    "nl = hoomd.md.nlist.cell()\n",
    "\n",
    "#LJ-potential depens on r_cut\n",
    "lj = hoomd.md.pair.lj(r_cut=r_cut, nlist=nl)\n",
    "\n",
    "lj.pair_coeff.set('A', 'A', epsilon=lj_epsilon_AA, sigma=lj_sigma_AA)"
   ]
  },
  {
   "cell_type": "markdown",
   "metadata": {},
   "source": [
    "# Set integrator and  parameters"
   ]
  },
  {
   "cell_type": "code",
   "execution_count": 10,
   "metadata": {},
   "outputs": [
    {
     "name": "stdout",
     "output_type": "stream",
     "text": [
      "notice(2): integrate.langevin/bd is using specified gamma values\n"
     ]
    }
   ],
   "source": [
    "#integrator\n",
    "hoomd.md.integrate.mode_standard(dt=dt)\n",
    "\n",
    "#dcsale is used to choose gamma\n",
    "integrator = hoomd.md.integrate.brownian(group=all, kT=kT, dscale=False,\n",
    "                                         seed=np.random.randint(0,9999))\n",
    "\n",
    "\n",
    "#set gamma (friction constant); ATTENTION: set after integrator is set!\n",
    "integrator.set_gamma('A', gamma=gamma)\n"
   ]
  },
  {
   "cell_type": "markdown",
   "metadata": {},
   "source": [
    "# Run the simulation"
   ]
  },
  {
   "cell_type": "code",
   "execution_count": null,
   "metadata": {},
   "outputs": [
    {
     "name": "stdout",
     "output_type": "stream",
     "text": [
      "notice(2): -- Neighborlist exclusion statistics -- :\n",
      "notice(2): Particles with 1 exclusions             : 2\n",
      "notice(2): Particles with 2 exclusions             : 98\n",
      "notice(2): Neighbors included by diameter          : no\n",
      "notice(2): Neighbors excluded when in the same body: no\n",
      "** starting run **\n",
      "Time 00:00:10 | Step 45408 / 101321183 | TPS 4540.79 | ETA 06:11:43\n",
      "Time 00:00:20 | Step 126851 / 101321183 | TPS 8143.75 | ETA 03:27:06\n",
      "Time 00:00:30 | Step 226949 / 101321183 | TPS 10009.8 | ETA 02:48:19\n",
      "Time 00:00:40 | Step 328439 / 101321183 | TPS 10148.1 | ETA 02:45:51\n",
      "Time 00:00:50 | Step 430269 / 101321183 | TPS 10182.5 | ETA 02:45:08\n",
      "Time 00:01:00 | Step 511313 / 101321183 | TPS 8103.63 | ETA 03:27:20\n",
      "Time 00:01:10 | Step 606313 / 101321183 | TPS 9499.64 | ETA 02:56:41\n",
      "Time 00:01:20 | Step 704288 / 101321183 | TPS 9796.41 | ETA 02:51:10\n",
      "Time 00:01:30 | Step 801159 / 101321183 | TPS 9686.12 | ETA 02:52:57\n",
      "Time 00:01:40 | Step 895874 / 101321183 | TPS 9471.24 | ETA 02:56:43\n",
      "Time 00:01:50 | Step 993596 / 101321183 | TPS 9772.2 | ETA 02:51:06\n",
      "Time 00:02:00 | Step 1091401 / 101321183 | TPS 9779.97 | ETA 02:50:48\n",
      "Time 00:02:10 | Step 1189501 / 101321183 | TPS 9809.6 | ETA 02:50:07\n",
      "Time 00:02:20 | Step 1283941 / 101321183 | TPS 9443.96 | ETA 02:56:32\n",
      "Time 00:02:30 | Step 1382368 / 101321183 | TPS 9842.68 | ETA 02:49:13\n",
      "Time 00:02:40 | Step 1480768 / 101321183 | TPS 9839.26 | ETA 02:49:07\n",
      "Time 00:02:50 | Step 1578818 / 101321183 | TPS 9804.37 | ETA 02:49:33\n",
      "Time 00:03:00 | Step 1676969 / 101321183 | TPS 9814.84 | ETA 02:49:12\n",
      "Time 00:03:10 | Step 1775249 / 101321183 | TPS 9827.98 | ETA 02:48:48\n",
      "Time 00:03:20 | Step 1873248 / 101321183 | TPS 9799.73 | ETA 02:49:08\n",
      "Time 00:03:30 | Step 1971665 / 101321183 | TPS 9840.58 | ETA 02:48:15\n",
      "Time 00:03:40 | Step 2069685 / 101321183 | TPS 9801.74 | ETA 02:48:45\n",
      "Time 00:03:50 | Step 2167716 / 101321183 | TPS 9802.03 | ETA 02:48:35\n",
      "Time 00:04:00 | Step 2256701 / 101321183 | TPS 8898.48 | ETA 03:05:32\n",
      "Time 00:04:10 | Step 2352058 / 101321183 | TPS 9534.8 | ETA 02:52:59\n",
      "Time 00:04:20 | Step 2451651 / 101321183 | TPS 9958.29 | ETA 02:45:28\n",
      "Time 00:04:30 | Step 2551070 / 101321183 | TPS 9941.39 | ETA 02:45:35\n",
      "Time 00:04:40 | Step 2650074 / 101321183 | TPS 9900.37 | ETA 02:46:06\n",
      "Time 00:04:50 | Step 2749416 / 101321183 | TPS 9933.81 | ETA 02:45:22\n",
      "Time 00:05:00 | Step 2848686 / 101321183 | TPS 9926.99 | ETA 02:45:19\n",
      "Time 00:05:10 | Step 2947613 / 101321183 | TPS 9892.69 | ETA 02:45:44\n",
      "Time 00:05:20 | Step 3046864 / 101321183 | TPS 9925 | ETA 02:45:01\n",
      "Time 00:05:30 | Step 3146351 / 101321183 | TPS 9948.27 | ETA 02:44:28\n",
      "Time 00:05:40 | Step 3246521 / 101321183 | TPS 10016.2 | ETA 02:43:11\n",
      "Time 00:05:50 | Step 3346698 / 101321183 | TPS 10017.4 | ETA 02:43:00\n",
      "Time 00:06:00 | Step 3446148 / 101321183 | TPS 9944.76 | ETA 02:44:01\n",
      "Time 00:06:10 | Step 3544855 / 101321183 | TPS 9870.05 | ETA 02:45:06\n",
      "Time 00:06:20 | Step 3644746 / 101321183 | TPS 9988.45 | ETA 02:42:58\n",
      "Time 00:06:30 | Step 3745020 / 101321183 | TPS 10027.4 | ETA 02:42:10\n",
      "Time 00:06:40 | Step 3845170 / 101321183 | TPS 10014.5 | ETA 02:42:13\n",
      "Time 00:06:50 | Step 3945318 / 101321183 | TPS 10014.3 | ETA 02:42:03\n",
      "Time 00:07:00 | Step 4045476 / 101321183 | TPS 10015.2 | ETA 02:41:52\n",
      "Time 00:07:10 | Step 4145245 / 101321183 | TPS 9976.9 | ETA 02:42:20\n",
      "Time 00:07:20 | Step 4241708 / 101321183 | TPS 9646.3 | ETA 02:47:43\n",
      "Time 00:07:30 | Step 4335801 / 101321183 | TPS 9407.74 | ETA 02:51:49\n",
      "Time 00:07:40 | Step 4429870 / 101321183 | TPS 9405.94 | ETA 02:51:41\n",
      "Time 00:07:50 | Step 4523192 / 101321183 | TPS 9331.34 | ETA 02:52:53\n"
     ]
    }
   ],
   "source": [
    "hoomd.run(integration_steps)"
   ]
  },
  {
   "cell_type": "code",
   "execution_count": null,
   "metadata": {},
   "outputs": [],
   "source": []
  }
 ],
 "metadata": {
  "kernelspec": {
   "display_name": "Python 3",
   "language": "python",
   "name": "python3"
  },
  "language_info": {
   "codemirror_mode": {
    "name": "ipython",
    "version": 3
   },
   "file_extension": ".py",
   "mimetype": "text/x-python",
   "name": "python",
   "nbconvert_exporter": "python",
   "pygments_lexer": "ipython3",
   "version": "3.7.4"
  }
 },
 "nbformat": 4,
 "nbformat_minor": 2
}
