{
 "cells": [
  {
   "cell_type": "markdown",
   "metadata": {},
   "source": [
    "This Python-code runs the Python program 'run_polymer_simulation_once.ipynb' many times to obtain better statistics. Results-files are saved for each simulation and finally used to create an average of the quantities."
   ]
  },
  {
   "cell_type": "markdown",
   "metadata": {},
   "source": [
    "# Import of libraries "
   ]
  },
  {
   "cell_type": "code",
   "execution_count": 2,
   "metadata": {},
   "outputs": [],
   "source": [
    "import math\n",
    "import numpy as np\n",
    "import os"
   ]
  },
  {
   "cell_type": "markdown",
   "metadata": {},
   "source": [
    "# Set datetime and create subfolder for results"
   ]
  },
  {
   "cell_type": "code",
   "execution_count": 6,
   "metadata": {},
   "outputs": [],
   "source": [
    "#set density of passive particles (inside simulation box)\n",
    "density_passive_particles = 0.01 #CHANGE ALSO IN NAME 3 LINES BELOW\n",
    "\n",
    "#set filename for simulation with equal parameters (=DENSITY)\n",
    "name_for_same_simulations = \"1001\"\n",
    "\n",
    "#create a folder for results (if not exists already)\n",
    "try:\n",
    "    os.makedirs(\"Codes/results\")\n",
    "\n",
    "except FileExistsError:\n",
    "    #directory already exists\n",
    "    pass\n",
    "\n",
    "\n",
    "\n",
    "#create a subfolder for results (simulations with same parameters)\n",
    "try:\n",
    "    #create directory in folder 'results' to save results simulation with same parameters\n",
    "    os.makedirs(\"Codes/results/\"+name_for_same_simulations)\n",
    "    \n",
    "except FileExistsError:\n",
    "    #directory already exists\n",
    "    pass\n",
    "\n",
    "path_for_same_simulations = \"Codes/results/\"+name_for_same_simulations"
   ]
  },
  {
   "cell_type": "markdown",
   "metadata": {},
   "source": [
    "# Initialization and calculation of basic parameters"
   ]
  },
  {
   "cell_type": "markdown",
   "metadata": {},
   "source": [
    "Initial parameters (fixed values for all simulation) are defined in the Initialization. Then, they are written to another python-file, 'init_parameters.ipynb'. The program 'run_polymer_simulation_once.ipynb' load this initial parameters from the file 'init_parameters.py' every time it is called. Attention: This extra file 'init_parameters.ipynb' is needed because a python program cannot load variables from this file ('main_code.ipynb') while it is run."
   ]
  },
  {
   "cell_type": "code",
   "execution_count": 4,
   "metadata": {},
   "outputs": [],
   "source": [
    "#define number of polymers segments (monomers)\n",
    "Monomers = 30\n",
    "\n",
    "#define number of bonds between segments\n",
    "Bonds = Monomers - 1\n",
    "\n",
    "#define spring constant (Rouse model) for bonds between segments in units energy/distance^2\n",
    "k = 1\n",
    "\n",
    "#define drag-coefficient constant gamma\n",
    "gamma = 1\n",
    "\n",
    "#define temperature in units of kT\n",
    "kT = 1\n",
    "\n",
    "#define integration step time\n",
    "dt = 10**(-4)\n",
    "\n",
    "#define numer of point for graphical representation and used for fits (number of callbacks)\n",
    "number_of_points = 1e3"
   ]
  },
  {
   "cell_type": "code",
   "execution_count": 5,
   "metadata": {},
   "outputs": [],
   "source": [
    "#set epsilon and sigma for Lennard_jones potential between different particles\n",
    "lj_epsilon_AA = 1.0\n",
    "lj_sigma_AA = 1.0\n",
    "lj_epsilon_AB = 1.0\n",
    "lj_sigma_AB = 1.0\n",
    "lj_epsilon_BB = 1.0\n",
    "lj_sigma_BB = 1.0\n",
    "\n",
    "#define rest distance between segments of polymer\n",
    "#use r0 = lj_sigma_AA (spring's rest distance = distance between segment where LJ-potential = 0)\n",
    "r0 = lj_sigma_AA\n",
    "\n",
    "#set cut-off radius for potential between two particles\n",
    "r_cut = 2**(1/6)*lj_sigma_AA"
   ]
  },
  {
   "cell_type": "code",
   "execution_count": 6,
   "metadata": {},
   "outputs": [],
   "source": [
    "#calculate Kuhn length b\n",
    "Kuhn_length_b = math.sqrt(3*kT/k)\n",
    "\n",
    "#calculate Rouse time (Rouse mode = 1)\n",
    "tau_rouse_theory = gamma*Monomers**2*Kuhn_length_b**2 / (3*np.pi**2*kT)"
   ]
  },
  {
   "cell_type": "code",
   "execution_count": 7,
   "metadata": {},
   "outputs": [],
   "source": [
    "#define number of integration steps (e3 --> *1000, is written into files in correct digit-format)\n",
    "integration_steps = int(tau_rouse_theory/dt*10)\n",
    "\n",
    "#set number of executions of one entire simulation (not need anymore)\n",
    "#this 'main_code.ipynb' ('main_code.py') will be executed many times\n",
    "#number_of_simulations = 1\n",
    "\n",
    "#define maximum time\n",
    "t_max = dt*integration_steps"
   ]
  },
  {
   "cell_type": "code",
   "execution_count": 8,
   "metadata": {},
   "outputs": [],
   "source": [
    "#calculate volume of one passive particle = 4/3*pi*(sigma/2)^3\n",
    "volume_passive_particle = 4/3*np.pi*(lj_sigma_BB/2)**3\n",
    "\n",
    "#density of passive particles see above\n",
    "\n",
    "#set box_factor (x-, y- and z-length of simulation-box = box_factor * Monomers)\n",
    "box_factor = 1.2\n",
    "\n",
    "#calculate number of passive particles to obtain density as set above\n",
    "n_passive_particles = int( (box_factor*Monomers)**3 *\n",
    "                          density_passive_particles / volume_passive_particle )\n",
    "\n",
    "#define number of active particles\n",
    "n_active_particles = 0"
   ]
  },
  {
   "cell_type": "markdown",
   "metadata": {},
   "source": [
    "Create file 'initial_values.py' and write the set parameters into it; this file is called every time when the simulation 'run_polymer_simulation_once.py' starts."
   ]
  },
  {
   "cell_type": "code",
   "execution_count": 9,
   "metadata": {},
   "outputs": [],
   "source": [
    "#safe initial parameters\n",
    "init_parameters = (\n",
    "\n",
    "    \"name_for_same_simulations = \" +str(name_for_same_simulations)+\"\\n\"  +\n",
    "    \"Monomers = \"                  +str(Monomers)+\"\\n\"                   +\n",
    "    \"Bonds = \"                     +str(Bonds)+\"\\n\"                      +\n",
    "    \"k = \"                         +str(k)+\"\\n\"                          +\n",
    "    \"n_passive_particles = \"       +str(n_passive_particles)+\"\\n\"        +\n",
    "    \"volume_passive_particle = \"   +str(volume_passive_particle)+\"\\n\"    +\n",
    "    \"density_passive_particles = \" +str(density_passive_particles)+\"\\n\"  +\n",
    "    \"n_active_particles = \"        +str(n_active_particles)+\"\\n\"         +\n",
    "    \"lj_epsilon_AA = \"             +str(lj_epsilon_AA)+\"\\n\"              +\n",
    "    \"lj_sigma_AA = \"               +str(lj_sigma_AA)+\"\\n\"                +\n",
    "    \"lj_epsilon_AB = \"             +str(lj_epsilon_AB)+\"\\n\"              +\n",
    "    \"lj_sigma_AB = \"               +str(lj_sigma_AB)+\"\\n\"                +\n",
    "    \"lj_epsilon_BB = \"             +str(lj_epsilon_BB)+\"\\n\"              +\n",
    "    \"lj_sigma_BB = \"               +str(lj_sigma_BB)+\"\\n\"                +\n",
    "    \"box_factor = \"                +str(box_factor)+\"\\n\"                 +\n",
    "    \"r_cut = \"                     +str(r_cut)+\"\\n\"                      +\n",
    "    \"gamma = \"                     +str(gamma)+\"\\n\"                      +\n",
    "    \"r0 = \"                        +str(r0)+\"\\n\"                         +\n",
    "    \"kT = \"                        +str(kT)+\"\\n\"                         +\n",
    "    \"dt = \"                        +str(dt)+\"\\n\"                         +\n",
    "    \"integration_steps = \"         +str(integration_steps)+\"\\n\"          +\n",
    "    \"number_of_points = \"          +str(number_of_points)+\"\\n\"           +\n",
    "    \"Kuhn_length_b = \"             +str(Kuhn_length_b)+\"\\n\"              +\n",
    "    \"tau_rouse_theory = \"          +str(tau_rouse_theory)+\"\\n\"           +\n",
    "    \"t_max = \"                     +str(t_max))\n",
    "\n",
    "#make py-file (same for all simulations with same parameters) if not already exists\n",
    "if os.path.isfile(path_for_same_simulations+'/'\n",
    "                        +'initial_parameters.py'):\n",
    "    pass\n",
    "\n",
    "else:\n",
    "    \n",
    "    #write initial parameters in same directory as results\n",
    "    file_init_parameters = open(path_for_same_simulations+'/'+'initial_parameters_'+\n",
    "                                '.py', 'w')\n",
    "\n",
    "    file_init_parameters.write(init_parameters)\n",
    "\n",
    "    file_init_parameters.close()"
   ]
  },
  {
   "cell_type": "markdown",
   "metadata": {},
   "source": [
    "# Run the entire simulation once"
   ]
  },
  {
   "cell_type": "code",
   "execution_count": null,
   "metadata": {
    "scrolled": true
   },
   "outputs": [],
   "source": [
    "os.system\"python3 /home/niklas.butkevich/\"+path_for_same_simulations+\"/run_polymer_simulation_once.py\")"
   ]
  }
 ],
 "metadata": {
  "kernelspec": {
   "display_name": "Python 3",
   "language": "python",
   "name": "python3"
  },
  "language_info": {
   "codemirror_mode": {
    "name": "ipython",
    "version": 3
   },
   "file_extension": ".py",
   "mimetype": "text/x-python",
   "name": "python",
   "nbconvert_exporter": "python",
   "pygments_lexer": "ipython3",
   "version": "3.7.4"
  }
 },
 "nbformat": 4,
 "nbformat_minor": 2
}
