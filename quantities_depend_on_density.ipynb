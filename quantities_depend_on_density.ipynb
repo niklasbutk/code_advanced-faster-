{
 "cells": [
  {
   "cell_type": "markdown",
   "metadata": {},
   "source": [
    "This code creates plots for quantities in dependence of densities of passive particles."
   ]
  },
  {
   "cell_type": "code",
   "execution_count": 1,
   "metadata": {},
   "outputs": [],
   "source": [
    "import matplotlib.pyplot as plt\n",
    "import numpy as np\n",
    "import math\n",
    "from scipy.optimize import curve_fit\n",
    "import csv"
   ]
  },
  {
   "cell_type": "code",
   "execution_count": 2,
   "metadata": {},
   "outputs": [],
   "source": [
    "#set plot parameters\n",
    "\n",
    "#change figure size\n",
    "figure_size = plt.rcParams[\"figure.figsize\"]\n",
    "figure_size[0] = 12\n",
    "figure_size[1] = 6\n",
    "plt.rcParams['figure.figsize'] = figure_size\n",
    "\n",
    "#set line width\n",
    "plt.rcParams['lines.linewidth'] = 2\n",
    "\n",
    "#set label size in the plots\n",
    "plt.rcParams.update({'font.size': 18})"
   ]
  },
  {
   "cell_type": "code",
   "execution_count": 3,
   "metadata": {},
   "outputs": [],
   "source": [
    "#create lists for quantities for graphical representation (plots)\n",
    "list_of_densities = []\n",
    "list_of_sq_end_to_end_distances = []\n",
    "list_of_sq_end_to_end_distances_err = []\n",
    "list_of_diffusion_constants = []\n",
    "list_of_diffusion_constants_err = []\n",
    "list_of_rouse_times = []\n",
    "list_of_rouse_times_err = []\n",
    "\n",
    "averaged_quantities = open('averages_for_plots_different_densities','r')\n",
    "lines = csv.reader(averaged_quantities, delimiter='\t')\n",
    "\n",
    "for line in lines:\n",
    "\n",
    "        #time has to be multiplied by dt, otherwise it is number of timesteps\n",
    "        list_of_densities.append(float(line[0]))\n",
    "\n",
    "        list_of_sq_end_to_end_distances.append(float(line[1]))\n",
    "        list_of_sq_end_to_end_distances_err.append(float(line[2]))\n",
    "        list_of_diffusion_constants.append(float(line[3]))\n",
    "        list_of_diffusion_constants_err.append(float(line[4]))\n",
    "        list_of_rouse_times.append(float(line[5]))\n",
    "        list_of_rouse_times_err.append(float(line[6]))\n",
    "\n",
    "\n",
    "#close the file\n",
    "averaged_quantities.close()"
   ]
  },
  {
   "cell_type": "markdown",
   "metadata": {},
   "source": [
    "# Create the plot (sq. end-to-end distances)"
   ]
  },
  {
   "cell_type": "code",
   "execution_count": 4,
   "metadata": {},
   "outputs": [
    {
     "data": {
      "image/png": "[encoded data removed]",
      "text/plain": [
       "<Figure size 864x432 with 1 Axes>"
      ]
     },
     "metadata": {},
     "output_type": "display_data"
    },
    {
     "data": {
      "text/plain": [
       "'\\n#exp(const); keep power the same\\nparameters = [np.exp(popt[0]), (popt[1])]\\n\\n#to calculate error, use Gaussian error propagation\\nerrors = [np.absolute(popt[0]*np.exp(popt[0])*perr[0]),perr[1]]\\n\\n#print parameters\\nprint (\"exp(parameters) = \"+str(parameters)+\" +/- \"+str(errors))\\n'"
      ]
     },
     "execution_count": 4,
     "metadata": {},
     "output_type": "execute_result"
    }
   ],
   "source": [
    "#covert arrays into numpy arrays and use short names (use x and y)\n",
    "x = np.array(list_of_densities)\n",
    "y = np.array(list_of_sq_end_to_end_distances)\n",
    "y_err = np.array(list_of_sq_end_to_end_distances_err)\n",
    "\n",
    "\"\"\"\n",
    "#do not use first two elements due to hard fluctuation\n",
    "x_log = np.log(x)\n",
    "y_log = np.log(y)\n",
    "\n",
    "\n",
    "#define fit function; take independent variable as first argument\n",
    "def func_sq_ee_dinstance_in_dependence_of_N(list_of_Bonds_log, const, power):\n",
    "    \n",
    "    #Attention: <R_ee^2> depends on BONDS!\n",
    "    return const + power*list_of_Bonds_log\n",
    "\n",
    "#fit the curve using function\n",
    "popt, pcov = curve_fit(func_sq_ee_dinstance_in_dependence_of_N,\n",
    "                       list_of_Bonds_log, y_log)\n",
    "\n",
    "#calculate standard deviation from estimated covariance\n",
    "perr = np.sqrt(np.diag(pcov))\n",
    "\n",
    "#define function to represent results (same as above\n",
    "#but not log)\n",
    "def func_show_sq_ee_dinstance_in_dependence_of_N(N, const, power):\n",
    "    \n",
    "    #Attention: <R_ee^2> depends on BONDS!\n",
    "    return np.exp(const) * ((N-1)**power)\n",
    "\"\"\"\n",
    "\n",
    "#plot the results, #Attention: <R_ee^2> depends on BONDS!\n",
    "plt.errorbar(x, y, y_err, color='blue', marker='o', label='data', fmt='.')\n",
    "\n",
    "\"\"\"\n",
    "#skip first two values for representation\n",
    "plt.plot(N, func_show_sq_ee_dinstance_in_dependence_of_N(N, *popt),\n",
    "         'r-', label=('fit'))\n",
    "\"\"\"\n",
    "\n",
    "#save the plot\n",
    "plt.legend(loc='best')\n",
    "\n",
    "#plt.xscale('log')\n",
    "\n",
    "#set ticks\n",
    "#plt.yscale('log')\n",
    "plt.xlabel(r'$\\rho_{\\mathrm{pp}}$')\n",
    "plt.ylabel(r'$<R_{\\mathrm{ee}}^2(\\rho_{\\mathrm{pp}})>$')\n",
    "plt.draw()\n",
    "plt.savefig('sq_distance_in_dependence_of_density.png')\n",
    "plt.show()\n",
    "plt.close()\n",
    "\n",
    "\"\"\"\n",
    "#exp(const); keep power the same\n",
    "parameters = [np.exp(popt[0]), (popt[1])]\n",
    "\n",
    "#to calculate error, use Gaussian error propagation\n",
    "errors = [np.absolute(popt[0]*np.exp(popt[0])*perr[0]),perr[1]]\n",
    "\n",
    "#print parameters\n",
    "print (\"exp(parameters) = \"+str(parameters)+\" +/- \"+str(errors))\n",
    "\"\"\""
   ]
  }
 ],
 "metadata": {
  "kernelspec": {
   "display_name": "Python 3",
   "language": "python",
   "name": "python3"
  },
  "language_info": {
   "codemirror_mode": {
    "name": "ipython",
    "version": 3
   },
   "file_extension": ".py",
   "mimetype": "text/x-python",
   "name": "python",
   "nbconvert_exporter": "python",
   "pygments_lexer": "ipython3",
   "version": "3.7.4"
  }
 },
 "nbformat": 4,
 "nbformat_minor": 2
}
